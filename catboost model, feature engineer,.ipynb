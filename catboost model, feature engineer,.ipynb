{
 "cells": [
  {
   "cell_type": "code",
   "execution_count": null,
   "id": "e38df462",
   "metadata": {},
   "outputs": [],
   "source": [
    "import pandas as pd\n",
    "import numpy as np\n",
    "import random\n",
    "import os\n",
    "import gc"
   ]
  },
  {
   "cell_type": "code",
   "execution_count": null,
   "id": "e4a25bfd-d2ec-4340-a613-720494952bc1",
   "metadata": {},
   "outputs": [],
   "source": [
    "# Set the seed for reproducibility\n",
    "seed = 53\n",
    "def seed_everything(seed):\n",
    "    random.seed(seed)\n",
    "    os.environ['PYTHONHASHSEED'] = str(seed)\n",
    "    np.random.seed(seed)\n",
    "    os.environ['TF_DETERMINISTIC_OPS'] = \"1\"\n",
    "seed_everything(seed)"
   ]
  },
  {
   "cell_type": "code",
   "execution_count": null,
   "id": "2d5e4bd1-100d-4c50-89bf-59fe47b4cdc5",
   "metadata": {},
   "outputs": [],
   "source": [
    "# Convert CSV files to Parquet format for faster data reading and processing\n",
    "def csv_to_parquet(csv_path, save_name):\n",
    "    df = pd.read_csv(csv_path)\n",
    "    df.to_parquet(f'./{save_name}.parquet')\n",
    "    del df\n",
    "    gc.collect()\n",
    "    print(save_name, 'Done.')"
   ]
  },
  {
   "cell_type": "code",
   "execution_count": null,
   "id": "5adaf4ff-d681-43a1-b90f-f674481a4700",
   "metadata": {},
   "outputs": [],
   "source": [
    "# Load the train, test, and sample submission data\n",
    "csv_to_parquet('open/train.csv', 'train')\n",
    "csv_to_parquet('open/test.csv', 'test')\n",
    "\n",
    "train = pd.read_parquet('train.parquet')\n",
    "test = pd.read_parquet('test.parquet')\n",
    "sample_submission = pd.read_csv('open/sample_submission.csv', index_col = 0)"
   ]
  },
  {
   "cell_type": "code",
   "execution_count": null,
   "id": "46980484",
   "metadata": {},
   "outputs": [],
   "source": [
    "# Drop 'Cancelled' and 'Diverted' columns from train and test datasets\n",
    "train = train.drop(columns = ['Cancelled', 'Diverted'], axis = 1)\n",
    "test = test.drop(columns = ['Cancelled', 'Diverted'], axis = 1)"
   ]
  },
  {
   "cell_type": "code",
   "execution_count": null,
   "id": "6aae0c3b",
   "metadata": {},
   "outputs": [],
   "source": [
    "# import necessary libraries and define numerical and categorical columns\n",
    "from sklearn.experimental import enable_iterative_imputer\n",
    "from sklearn.impute import IterativeImputer\n",
    "from sklearn.linear_model import Lasso\n",
    "\n",
    "num_col = ['Estimated_Departure_Time', 'Estimated_Arrival_Time']\n",
    "cat_col = ['Origin_State', 'Destination_State', 'Airline', 'Carrier_Code(IATA)', 'Carrier_ID(DOT)']\n",
    "\n",
    "# Define an iterative imputer with Lasso estimator to impute missing values in the numerical columns\n",
    "imp = IterativeImputer(estimator=Lasso(), initial_strategy='most_frequent', missing_values=np.nan, max_iter=1000, imputation_order='roman',random_state=seed)\n",
    "\n",
    "# Apply iterative imputation to fill missing values in the numerical columns of train and test datasets\n",
    "train[num_col]=imp.fit_transform(train[num_col])\n",
    "test[num_col]=imp.transform(test[num_col])\n",
    "\n",
    "# Round the numerical columns to integers\n",
    "train[num_col] = np.round(train[num_col])\n",
    "test[num_col] = np.round(test[num_col])\n",
    "\n",
    "# Fill missing values in the categorical columns of train and test datasets using groupby and mode\n",
    "train['Origin_State'] = train['Origin_State'].fillna(train.groupby(['Origin_Airport'])['Origin_State'].transform(lambda x: x.mode()[0] if not x.mode().empty else np.nan))\n",
    "train['Destination_State'] = train['Destination_State'].fillna(train.groupby(['Destination_Airport'])['Destination_State'].transform(lambda x: x.mode()[0] if not x.mode().empty else np.nan))\n",
    "train['Airline'] = train['Airline'].fillna(train.groupby(['Carrier_ID(DOT)'])['Airline'].transform(lambda x: x.mode()[0] if not x.mode().empty else np.nan).fillna(train.groupby(['Carrier_Code(IATA)'])['Airline'].transform(lambda x: x.mode()[0] if not x.mode().empty else np.nan)).fillna(train.groupby(['Distance'])['Airline'].transform(lambda x: x.mode()[0] if not x.mode().empty else np.nan)))\n",
    "train['Carrier_Code(IATA)'] = train['Carrier_Code(IATA)'].fillna(train.groupby(['Airline'])['Carrier_Code(IATA)'].transform(lambda x: x.mode()[0] if not x.mode().empty else np.nan))\n",
    "train['Carrier_ID(DOT)'] = train['Carrier_ID(DOT)'].fillna(train.groupby(['Airline'])['Carrier_ID(DOT)'].transform(lambda x: x.mode()[0] if not x.mode().empty else np.nan))\n",
    "test['Origin_State'] = test['Origin_State'].fillna(test.groupby(['Origin_Airport'])['Origin_State'].transform(lambda x: x.mode()[0] if not x.mode().empty else np.nan))\n",
    "test['Destination_State'] = test['Destination_State'].fillna(test.groupby(['Destination_Airport'])['Destination_State'].transform(lambda x: x.mode()[0] if not x.mode().empty else np.nan))\n",
    "test['Airline'] = test['Airline'].fillna(test.groupby(['Carrier_ID(DOT)'])['Airline'].transform(lambda x: x.mode()[0] if not x.mode().empty else np.nan).fillna(test.groupby(['Carrier_Code(IATA)'])['Airline'].transform(lambda x: x.mode()[0] if not x.mode().empty else np.nan)).fillna(test.groupby(['Distance'])['Airline'].transform(lambda x: x.mode()[0] if not x.mode().empty else np.nan)))\n",
    "test['Carrier_Code(IATA)'] = test['Carrier_Code(IATA)'].fillna(test.groupby(['Airline'])['Carrier_Code(IATA)'].transform(lambda x: x.mode()[0] if not x.mode().empty else np.nan))\n",
    "test['Carrier_ID(DOT)'] = test['Carrier_ID(DOT)'].fillna(test.groupby(['Airline'])['Carrier_ID(DOT)'].transform(lambda x: x.mode()[0] if not x.mode().empty else np.nan))\n",
    "\n",
    "# Fill missing values in categorical columns with mode\n",
    "for col in cat_col:\n",
    "    if col in train.columns:\n",
    "        train[col].fillna(train[col].mode()[0], inplace=True)\n",
    "        test[col].fillna(test[col].mode()[0], inplace=True)"
   ]
  },
  {
   "cell_type": "code",
   "execution_count": null,
   "id": "cd2483f0",
   "metadata": {},
   "outputs": [],
   "source": [
    "# Feature Engineering\n",
    "from datetime import datetime\n",
    "train[\"Dep_hour\"] = (train[\"Estimated_Departure_Time\"] // 100).astype(int)\n",
    "train[\"Dep_minute\"] = (train[\"Estimated_Departure_Time\"] % 100).astype(int)\n",
    "train[\"Arr_hour\"] = (train[\"Estimated_Arrival_Time\"] // 100).astype(int)\n",
    "train[\"Arr_minute\"] = (train[\"Estimated_Arrival_Time\"] % 100).astype(int)\n",
    "\n",
    "train['Dep_Time_of_Day'] = np.where(train['Dep_hour'] < 12, 'AM', 'PM')\n",
    "train['Arr_Time_of_Day'] = np.where(train['Arr_hour'] < 12, 'AM', 'PM')\n",
    "\n",
    "train['Scheduled_Departure'] = train[\"Dep_hour\"] *60 + train[\"Dep_minute\"]\n",
    "train['Scheduled_Arrival'] = train[\"Arr_hour\"] *60 + train[\"Arr_minute\"]\n",
    "\n",
    "train['is_weekend'] = np.where((train['Day_of_Month'] % 7 == 0) | (train['Day_of_Month'] % 7 == 6), 1, 0)\n",
    "\n",
    "train['Departure_weekday'] = pd.to_datetime(train['Month'].astype(str) + train['Day_of_Month'].astype(str), \n",
    "                                             format='%m%d').dt.weekday\n",
    "train['Arrival_weekday'] = pd.to_datetime(train['Month'].astype(str) + train['Day_of_Month'].astype(str), \n",
    "                                           format='%m%d').dt.weekday\n",
    "\n",
    "train['Flight_duration'] = (train['Estimated_Arrival_Time'] -train['Estimated_Departure_Time'])\n",
    "\n",
    "train['Distance_sub'] = train['Distance'] - train['Flight_duration']\n",
    "\n",
    "train['Date'] = train['Month'].astype(str) + '-' + train['Day_of_Month'].astype(str)\n",
    "train['Origin_Location'] = train['Origin_Airport'] + ', ' + train['Origin_State']\n",
    "train['Route'] = train['Origin_Airport'] + '-' + train['Destination_Airport']\n",
    "\n",
    "train['Destination_Location'] = train['Destination_Airport'] + ', ' + train['Destination_State']\n",
    "train['Day_of_Month'] = train.apply(lambda x: x['Day_of_Month']+1 \n",
    "                                    if x['Estimated_Arrival_Time'] < x['Estimated_Departure_Time'] \n",
    "                                    else x['Day_of_Month'], axis=1)\n",
    "train['Airline_Airport_Departure'] = train['Airline'] + '_' + train['Origin_Airport']\n",
    "train['Airline_Airport_Arrival'] = train['Airline'] + '_' + train['Destination_Airport']\n",
    "train['Same_State'] = (train['Origin_State'] == train['Destination_State']).astype(int)\n",
    "\n",
    "train['Distance_km'] = train['Distance'] * 1.60934\n",
    "\n",
    "train['Month_sin'] = np.sin(2 * np.pi * train['Month'] / 12)\n",
    "train['Month_cos'] = np.cos(2 * np.pi * train['Month'] / 12)\n",
    "\n",
    "train['Prev_month'] = np.where(train['Month'] == 1, 12, train['Month'] - 1)\n",
    "\n",
    "test[\"Dep_hour\"] = (test[\"Estimated_Departure_Time\"] // 100).astype(int)\n",
    "test[\"Dep_minute\"] = (test[\"Estimated_Departure_Time\"] % 100).astype(int)\n",
    "test[\"Arr_hour\"] = (test[\"Estimated_Arrival_Time\"] // 100).astype(int)\n",
    "test[\"Arr_minute\"] = (test[\"Estimated_Arrival_Time\"] % 100).astype(int)\n",
    "\n",
    "test['Dep_Time_of_Day'] = np.where(test['Dep_hour'] < 12, 'AM', 'PM')\n",
    "test['Arr_Time_of_Day'] = np.where(test['Arr_hour'] < 12, 'AM', 'PM')\n",
    "\n",
    "test['Scheduled_Departure'] = test[\"Dep_hour\"] *60 + test[\"Dep_minute\"]\n",
    "test['Scheduled_Arrival'] = test[\"Arr_hour\"] *60 + test[\"Arr_minute\"]\n",
    "\n",
    "test['is_weekend'] = np.where((test['Day_of_Month'] % 7 == 0) | (test['Day_of_Month'] % 7 == 6), 1, 0)\n",
    "\n",
    "test['Departure_weekday'] = pd.to_datetime(test['Month'].astype(str) + test['Day_of_Month'].astype(str), \n",
    "                                             format='%m%d').dt.weekday\n",
    "test['Arrival_weekday'] = pd.to_datetime(test['Month'].astype(str) + test['Day_of_Month'].astype(str), \n",
    "                                           format='%m%d').dt.weekday\n",
    "\n",
    "test['Flight_duration'] = (test['Estimated_Arrival_Time'] -test['Estimated_Departure_Time'])\n",
    "\n",
    "test['Distance_sub'] = test['Distance'] - test['Flight_duration']\n",
    "\n",
    "test['Date'] = test['Month'].astype(str) + '-' + test['Day_of_Month'].astype(str)\n",
    "test['Origin_Location'] = test['Origin_Airport'] + ', ' + test['Origin_State']\n",
    "test['Route'] = test['Origin_Airport'] + '-' + test['Destination_Airport']\n",
    "\n",
    "test['Destination_Location'] = test['Destination_Airport'] + ', ' + test['Destination_State']\n",
    "test['Day_of_Month'] = test.apply(lambda x: x['Day_of_Month']+1 \n",
    "                                    if x['Estimated_Arrival_Time'] < x['Estimated_Departure_Time'] \n",
    "                                    else x['Day_of_Month'], axis=1)\n",
    "test['Airline_Airport_Departure'] = test['Airline'] + '_' + test['Origin_Airport']\n",
    "test['Airline_Airport_Arrival'] = test['Airline'] + '_' + test['Destination_Airport']\n",
    "test['Same_State'] = (test['Origin_State'] == test['Destination_State']).astype(int)\n",
    "\n",
    "test['Distance_km'] = test['Distance'] * 1.60934\n",
    "\n",
    "test['Month_sin'] = np.sin(2 * np.pi * test['Month'] / 12)\n",
    "test['Month_cos'] = np.cos(2 * np.pi * test['Month'] / 12)\n",
    "\n",
    "test['Prev_month'] = np.where(test['Month'] == 1, 12, test['Month'] - 1)"
   ]
  },
  {
   "cell_type": "code",
   "execution_count": null,
   "id": "c1f8821b",
   "metadata": {},
   "outputs": [],
   "source": [
    "# Label encoding for categorical variables\n",
    "from sklearn.preprocessing import LabelEncoder\n",
    "object_cols = train.select_dtypes(include=['object']).columns\n",
    "object_cols = object_cols.drop(['Delay', 'ID'])\n",
    "\n",
    "for i in object_cols:\n",
    "    le = LabelEncoder()\n",
    "    le=le.fit(train[i])\n",
    "    train[i]=le.transform(train[i])\n",
    "    \n",
    "    for label in np.unique(test[i]):\n",
    "        if label not in le.classes_: \n",
    "            le.classes_ = np.append(le.classes_, label)\n",
    "    test[i]=le.transform(test[i])"
   ]
  },
  {
   "cell_type": "code",
   "execution_count": null,
   "id": "8d4f8da0-b588-42cc-819b-bf32e9e2cd28",
   "metadata": {},
   "outputs": [],
   "source": [
    "# Drop rows with missing values and create a dictionary to convert target variable 'Delay' to numeric values\n",
    "train = train.dropna()"
   ]
  },
  {
   "cell_type": "code",
   "execution_count": null,
   "id": "d9e11da9-1903-42a3-bb7b-02efaa1f9d9f",
   "metadata": {
    "tags": []
   },
   "outputs": [],
   "source": [
    "column_number = {}\n",
    "for i, column in enumerate(sample_submission.columns):\n",
    "    column_number[column] = i\n",
    "    \n",
    "def to_number(x, dic):\n",
    "    return dic[x]\n",
    "\n",
    "train.loc[:, 'Delay_num'] = train['Delay'].apply(lambda x: to_number(x, column_number)) "
   ]
  },
  {
   "cell_type": "code",
   "execution_count": null,
   "id": "08a9b8b1-a8ba-4d14-8cd7-054510cbad10",
   "metadata": {},
   "outputs": [],
   "source": [
    "train_x = train.drop(columns=['ID', 'Delay', 'Delay_num'])\n",
    "train_y = train['Delay_num']\n",
    "test_x = test.drop(columns=['ID'])"
   ]
  },
  {
   "cell_type": "code",
   "execution_count": null,
   "id": "f1eb96c0",
   "metadata": {},
   "outputs": [],
   "source": [
    "# Feature creation using autofeat\n",
    "from autofeat import AutoFeatClassifier\n",
    "train_xx = train_x[['Month', 'Day_of_Month', 'Estimated_Departure_Time', 'Estimated_Arrival_Time', \n",
    "                    'Origin_Airport', 'Origin_State', 'Destination_Airport', 'Destination_State', 'Distance', 'Airline', 'Carrier_Code(IATA)', 'Tail_Number']]\n",
    "test_xx = test_x[['Month', 'Day_of_Month', 'Estimated_Departure_Time', 'Estimated_Arrival_Time', \n",
    "                  'Origin_Airport', 'Origin_State', 'Destination_Airport', 'Destination_State', 'Distance', 'Airline', 'Carrier_Code(IATA)', 'Tail_Number']]\n",
    "auto = AutoFeatClassifier(n_jobs= -1)\n",
    "X_train_feature_creation = auto.fit_transform(train_xx, train_y)\n",
    "X_test_feature_creation = auto.transform(test_xx)"
   ]
  },
  {
   "cell_type": "code",
   "execution_count": null,
   "id": "d661d4c1",
   "metadata": {},
   "outputs": [],
   "source": [
    "# Exclude original features used in feature creation and concatenate the new features with the remaining original features\n",
    "excluded_columns = ['Month', 'Day_of_Month', 'Estimated_Departure_Time', 'Estimated_Arrival_Time', 'Origin_Airport', 'Origin_State', 'Destination_Airport', 'Destination_State', 'Distance', 'Airline', 'Carrier_Code(IATA)', 'Tail_Number']\n",
    "included_columns = [col for col in train_x.columns if col not in excluded_columns]\n",
    "tr = train_x[included_columns].reset_index(drop=True)\n",
    "te = test_x[included_columns].reset_index(drop=True)\n",
    "train_x = pd.concat([X_train_feature_creation, tr], axis=1)\n",
    "test_x = pd.concat([X_test_feature_creation, te], axis=1)"
   ]
  },
  {
   "cell_type": "code",
   "execution_count": null,
   "id": "b949b4a2",
   "metadata": {},
   "outputs": [],
   "source": [
    "select_col = ['Month', 'Day_of_Month', 'Estimated_Departure_Time',\n",
    "       'Estimated_Arrival_Time', 'Origin_Airport', 'Destination_Airport',\n",
    "       'Destination_State', 'Distance', 'Airline', 'Carrier_Code(IATA)',\n",
    "       'Tail_Number', 'Day_of_Month**3/Month', 'Month**2*sqrt(Tail_Number)',\n",
    "       'Estimated_Departure_Time**3*Month**3',\n",
    "       'sqrt(Airline)*Estimated_Arrival_Time**2',\n",
    "       'sqrt(Estimated_Departure_Time)*log(Distance)',\n",
    "       'Carrier_CodeIATA**3*Estimated_Departure_Time**2',\n",
    "       'log(Estimated_Arrival_Time)/Estimated_Arrival_Time',\n",
    "       'Estimated_Arrival_Time**3/Estimated_Departure_Time',\n",
    "       'Origin_Airport**2*Origin_State**3',\n",
    "       'sqrt(Carrier_CodeIATA)*Origin_State**3',\n",
    "       'Estimated_Departure_Time*sqrt(Origin_State)',\n",
    "       'sqrt(Destination_State)*Estimated_Departure_Time',\n",
    "       'log(Estimated_Departure_Time)/Estimated_Departure_Time',\n",
    "       'Airline**3*Origin_State**3', 'Airline/Estimated_Departure_Time',\n",
    "       'Estimated_Arrival_Time**2*sqrt(Origin_State)',\n",
    "       '1/(Day_of_Month*Month)', 'log(Day_of_Month)/Day_of_Month',\n",
    "       'sqrt(Distance)*Estimated_Arrival_Time**2',\n",
    "       'sqrt(Destination_State)*Estimated_Arrival_Time**2',\n",
    "       'Estimated_Arrival_Time**3*Estimated_Departure_Time**3',\n",
    "       'Distance**3*Tail_Number**3', 'Estimated_Departure_Time**3/Month',\n",
    "       'Origin_Airport_ID', 'Destination_Airport_ID', 'Carrier_ID(DOT)',\n",
    "       'Dep_hour', 'Dep_minute', 'Arr_hour', 'Arr_minute', 'Dep_Time_of_Day',\n",
    "       'Arr_Time_of_Day', 'Scheduled_Departure', 'Scheduled_Arrival',\n",
    "       'is_weekend', 'Arrival_weekday', 'Flight_duration', 'Distance_sub',\n",
    "       'Date', 'Origin_Location', 'Route', 'Destination_Location',\n",
    "       'Airline_Airport_Departure', 'Airline_Airport_Arrival', 'Same_State',\n",
    "       'Distance_km', 'Month_sin', 'Month_cos', 'Prev_month']\n",
    "train_x = train_x[select_col]\n",
    "test_x = test_x[select_col]"
   ]
  },
  {
   "cell_type": "code",
   "execution_count": null,
   "id": "dab2e714",
   "metadata": {},
   "outputs": [],
   "source": [
    "# Split data into train and validation sets with stratification\n",
    "from sklearn.model_selection import train_test_split, StratifiedKFold\n",
    "X_train, X_val, y_train, y_val = train_test_split(train_x, train_y, test_size=0.2, random_state=seed, shuffle=True, stratify= train_y)\n",
    "cv = StratifiedKFold(n_splits=5, shuffle=True, random_state=seed)"
   ]
  },
  {
   "cell_type": "code",
   "execution_count": null,
   "id": "e199a86e",
   "metadata": {},
   "outputs": [],
   "source": [
    "# Standardize the data using StandardScaler\n",
    "from sklearn.preprocessing import StandardScaler\n",
    "scaler = StandardScaler()\n",
    "X_train = scaler.fit_transform(X_train)\n",
    "X_val = scaler.transform(X_val)\n",
    "test_x = scaler.transform(test_x)"
   ]
  },
  {
   "cell_type": "code",
   "execution_count": null,
   "id": "9579cdaa",
   "metadata": {},
   "outputs": [],
   "source": [
    "# Train a CatBoost classifier with hyperparameters and class weights\n",
    "from catboost import CatBoostClassifier\n",
    "cat = CatBoostClassifier(n_estimators = 8397, random_state=seed, class_weights={0: 0.14, 1: 0.86})\n",
    "cat.fit(X_train, y_train, eval_set=[(X_val, y_val)],\n",
    "                early_stopping_rounds=10)\n",
    "\n",
    "y_pred = cat.predict_proba(test_x)"
   ]
  },
  {
   "cell_type": "code",
   "execution_count": null,
   "id": "f35843bb-7a8f-45c3-a626-3727fa96a588",
   "metadata": {},
   "outputs": [],
   "source": [
    "# Save the predictions in a CSV file\n",
    "sample_submission = pd.read_csv('open/sample_submission.csv', index_col = 0)\n",
    "submission = pd.DataFrame(data=y_pred, columns=sample_submission.columns, index=sample_submission.index)\n",
    "submission.to_csv('baseline_submission.csv', index=True)"
   ]
  }
 ],
 "metadata": {
  "kernelspec": {
   "display_name": "Python 3",
   "language": "python",
   "name": "python3"
  },
  "language_info": {
   "codemirror_mode": {
    "name": "ipython",
    "version": 3
   },
   "file_extension": ".py",
   "mimetype": "text/x-python",
   "name": "python",
   "nbconvert_exporter": "python",
   "pygments_lexer": "ipython3",
   "version": "3.9.15"
  }
 },
 "nbformat": 4,
 "nbformat_minor": 5
}
